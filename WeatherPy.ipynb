{
 "cells": [
  {
   "cell_type": "markdown",
   "id": "a7d2eccf-8192-409c-95d6-7bb4f249acf4",
   "metadata": {},
   "source": [
    "# WeatherPy"
   ]
  },
  {
   "cell_type": "code",
   "execution_count": 79,
   "id": "842a48d4-050c-48ce-b76c-f631872e32af",
   "metadata": {},
   "outputs": [],
   "source": [
    "# Dependencies and Setup\n",
    "import matplotlib.pyplot as plt\n",
    "import pandas as pd\n",
    "import numpy as np\n",
    "import requests\n",
    "import json\n",
    "from pprint import pprint\n",
    "from datetime import datetime as dt\n",
    "import time\n",
    "from scipy.stats import linregress\n",
    "\n",
    "# Import API key\n",
    "from api_keys import weather_api_key\n",
    "\n",
    "# Incorporated citipy to determine city based on latitude and longitude\n",
    "from citipy import citipy\n",
    "\n",
    "# Output File (CSV)\n",
    "output_data_file = \"output_data/cities.csv\"\n",
    "\n",
    "# Range of latitudes and longitudes\n",
    "lat_range = (-90, 90)\n",
    "lng_range = (-180, 180)\n",
    "\n",
    "#Generate Cities List\n",
    "\n",
    "# List for holding lat_lngs and cities\n",
    "lat_lngs = []\n",
    "cities = []\n",
    "\n",
    "\n",
    "# Create a set of random lat and lng combinations\n",
    "lats = np.random.uniform(lat_range[0], lat_range[1], size=1500)\n",
    "lngs = np.random.uniform(lng_range[0], lng_range[1], size=1500)\n",
    "lat_lngs = zip(lats, lngs)\n",
    "\n",
    "# Identify nearest city for each lat, lng combination\n",
    "for lat_lng in lat_lngs:\n",
    "    city = citipy.nearest_city(lat_lng[0], lat_lng[1]).city_name\n",
    "    \n",
    "    # If the city is unique, then add it to a our cities list\n",
    "    if city not in cities:\n",
    "        cities.append(city)"
   ]
  },
  {
   "cell_type": "markdown",
   "id": "151ec475-07a4-4da3-a07c-608eb7ae77e2",
   "metadata": {},
   "source": [
    "# City Count"
   ]
  },
  {
   "cell_type": "code",
   "execution_count": 27,
   "id": "cba38881-d007-4ed2-aaa7-c6687260a150",
   "metadata": {},
   "outputs": [
    {
     "data": {
      "text/plain": [
       "638"
      ]
     },
     "execution_count": 27,
     "metadata": {},
     "output_type": "execute_result"
    }
   ],
   "source": [
    "# Print the city count to confirm sufficient count\n",
    "len(cities)"
   ]
  },
  {
   "cell_type": "markdown",
   "id": "080516a5-4309-4efc-8162-f7cac21b50fb",
   "metadata": {},
   "source": [
    "# Generate Cities API Status Report"
   ]
  },
  {
   "cell_type": "code",
   "execution_count": 3,
   "id": "a78462b3-665a-45bb-a450-741c25031040",
   "metadata": {},
   "outputs": [],
   "source": [
    "# Creating base url\n",
    "url = f\"http://api.openweathermap.org/data/2.5/weather?q=\"\n",
    "\n",
    "# Create empty list to hold required data\n",
    "\n",
    "city_name = []\n",
    "city_cloudiness = []\n",
    "city_country = []\n",
    "date = []\n",
    "city_humidity = []\n",
    "city_lats = []\n",
    "city_lngs = []\n",
    "city_maxtemps = []\n",
    "city_windspeed = []\n",
    "\n",
    "# initialize count variables for counting city and set\n",
    "item = 1\n",
    "batch = 1\n",
    "\n",
    "# Print header before displaying for loop data\n",
    "print(\"Beginning Data Retrieval\")\n",
    "print(\"----------------------------\")\n",
    "\n",
    "# for loop through list of cities and requstfor data on each city\n",
    "for city in cities:\n",
    "   \n",
    "    # build query url with city\n",
    "    q_url = url + city + f\"&appid={weather_api_key}\"\n",
    "    \n",
    "    # get response as json\n",
    "    cities_data = requests.get(q_url).json()\n",
    "    \n",
    "    # retrieve required data into list\n",
    "    try:\n",
    "        print(f\"Processing Record {item} of Set {batch} | {city}\")\n",
    "        city_name.append(cities_data[\"name\"])\n",
    "        city_cloudiness.append(cities_data[\"clouds\"][\"all\"])\n",
    "        city_country.append(cities_data[\"sys\"][\"country\"])\n",
    "        date.append(cities_data[\"dt\"])\n",
    "        city_humidity.append(cities_data[\"main\"][\"humidity\"])\n",
    "        city_lats.append(cities_data[\"coord\"][\"lat\"])\n",
    "        city_lngs.append(cities_data[\"coord\"][\"lon\"])\n",
    "        city_maxtemps.append(cities_data[\"main\"][\"temp_max\"])\n",
    "        city_windspeed.append(cities_data[\"wind\"][\"speed\"])\n",
    "        \n",
    "        # increase item count by one\n",
    "        item += 1\n",
    "        \n",
    "        # use if statemaent to limit API calls to 50\n",
    "        if item > 50:\n",
    "            \n",
    "            # start a new set of items\n",
    "            batch += 1\n",
    "            # reset item count to 1 for next set\n",
    "            item = 1\n",
    "          \n",
    "        #sleep time for 1 sec\n",
    "            time.sleep(1)\n",
    "    \n",
    "    # if hit error        \n",
    "    except:\n",
    "        print(f\"City '{city}' not found. Continue...\")\n",
    "        \n",
    "# print completion header after displaing for loop data\n",
    "print(\"----------------------------\")\n",
    "print(\"Data Retrieval Complete\")\n",
    "print(\"----------------------------\")"
   ]
  },
  {
   "cell_type": "markdown",
   "id": "ab6c5eb3-4398-4a82-9b27-52147a7040aa",
   "metadata": {},
   "source": [
    "# Convert Raw Data to DataFrame"
   ]
  },
  {
   "cell_type": "code",
   "execution_count": 85,
   "id": "4d092d76",
   "metadata": {},
   "outputs": [
    {
     "data": {
      "text/html": [
       "<div>\n",
       "<style scoped>\n",
       "    .dataframe tbody tr th:only-of-type {\n",
       "        vertical-align: middle;\n",
       "    }\n",
       "\n",
       "    .dataframe tbody tr th {\n",
       "        vertical-align: top;\n",
       "    }\n",
       "\n",
       "    .dataframe thead th {\n",
       "        text-align: right;\n",
       "    }\n",
       "</style>\n",
       "<table border=\"1\" class=\"dataframe\">\n",
       "  <thead>\n",
       "    <tr style=\"text-align: right;\">\n",
       "      <th></th>\n",
       "      <th>City</th>\n",
       "      <th>Cloudiness</th>\n",
       "      <th>Country</th>\n",
       "      <th>Date</th>\n",
       "      <th>Humidity</th>\n",
       "      <th>Lat</th>\n",
       "      <th>Lng</th>\n",
       "      <th>Max Temp</th>\n",
       "      <th>Wind Speed</th>\n",
       "    </tr>\n",
       "  </thead>\n",
       "  <tbody>\n",
       "    <tr>\n",
       "      <th>0</th>\n",
       "      <td>The Valley</td>\n",
       "      <td>40</td>\n",
       "      <td>AI</td>\n",
       "      <td>1970-01-01</td>\n",
       "      <td>70</td>\n",
       "      <td>18.2170</td>\n",
       "      <td>-63.0578</td>\n",
       "      <td>303.07</td>\n",
       "      <td>6.17</td>\n",
       "    </tr>\n",
       "    <tr>\n",
       "      <th>1</th>\n",
       "      <td>Shīeli</td>\n",
       "      <td>100</td>\n",
       "      <td>KZ</td>\n",
       "      <td>1970-01-01</td>\n",
       "      <td>36</td>\n",
       "      <td>44.1667</td>\n",
       "      <td>66.7500</td>\n",
       "      <td>286.08</td>\n",
       "      <td>1.50</td>\n",
       "    </tr>\n",
       "    <tr>\n",
       "      <th>2</th>\n",
       "      <td>La Unión</td>\n",
       "      <td>97</td>\n",
       "      <td>PE</td>\n",
       "      <td>1970-01-01</td>\n",
       "      <td>52</td>\n",
       "      <td>-5.4000</td>\n",
       "      <td>-80.7500</td>\n",
       "      <td>299.36</td>\n",
       "      <td>2.86</td>\n",
       "    </tr>\n",
       "    <tr>\n",
       "      <th>3</th>\n",
       "      <td>Cape Town</td>\n",
       "      <td>20</td>\n",
       "      <td>ZA</td>\n",
       "      <td>1970-01-01</td>\n",
       "      <td>46</td>\n",
       "      <td>-33.9258</td>\n",
       "      <td>18.4232</td>\n",
       "      <td>293.76</td>\n",
       "      <td>8.75</td>\n",
       "    </tr>\n",
       "    <tr>\n",
       "      <th>4</th>\n",
       "      <td>Cairns</td>\n",
       "      <td>89</td>\n",
       "      <td>AU</td>\n",
       "      <td>1970-01-01</td>\n",
       "      <td>90</td>\n",
       "      <td>-16.9167</td>\n",
       "      <td>145.7667</td>\n",
       "      <td>300.12</td>\n",
       "      <td>1.54</td>\n",
       "    </tr>\n",
       "  </tbody>\n",
       "</table>\n",
       "</div>"
      ],
      "text/plain": [
       "         City  Cloudiness Country        Date  Humidity      Lat       Lng  \\\n",
       "0  The Valley          40      AI  1970-01-01        70  18.2170  -63.0578   \n",
       "1      Shīeli         100      KZ  1970-01-01        36  44.1667   66.7500   \n",
       "2    La Unión          97      PE  1970-01-01        52  -5.4000  -80.7500   \n",
       "3   Cape Town          20      ZA  1970-01-01        46 -33.9258   18.4232   \n",
       "4      Cairns          89      AU  1970-01-01        90 -16.9167  145.7667   \n",
       "\n",
       "   Max Temp  Wind Speed  \n",
       "0    303.07        6.17  \n",
       "1    286.08        1.50  \n",
       "2    299.36        2.86  \n",
       "3    293.76        8.75  \n",
       "4    300.12        1.54  "
      ]
     },
     "execution_count": 85,
     "metadata": {},
     "output_type": "execute_result"
    }
   ],
   "source": [
    "#create a data frame \n",
    "city_temp_df = pd.DataFrame({\"City\": city_name,\n",
    "                             \"Cloudiness\": city_cloudiness,\n",
    "                             \"Country\": city_country,\n",
    "                             \"Date\": date,\n",
    "                             \"Humidity\": city_humidity,\n",
    "                             \"Lat\": city_lats,\n",
    "                             \"Lng\": city_lngs,\n",
    "                             \"Max Temp\": city_maxtemps,                         \n",
    "                             \"Wind Speed\": city_windspeed, \n",
    "                             })\n",
    "\n",
    "city_temp_df[\"Date\"] = pd.to_datetime(city_temp_df[\"Date\"]).dt.date\n",
    "\n",
    "# save dataframe to .csv file\n",
    "# city_temp_df.to_csv(\"output_data/cities.csv\", index=True, index_label=\"City ID\", header=True)\n",
    "\n",
    "# display dataframe\n",
    "city_temp_df.head(5)"
   ]
  },
  {
   "cell_type": "markdown",
   "id": "7df9aff0-c440-4a4d-af54-2a1cef5e3bd4",
   "metadata": {},
   "source": [
    "# Describe of DataFrame"
   ]
  },
  {
   "cell_type": "code",
   "execution_count": 33,
   "id": "83ef4447",
   "metadata": {},
   "outputs": [
    {
     "data": {
      "text/html": [
       "<div>\n",
       "<style scoped>\n",
       "    .dataframe tbody tr th:only-of-type {\n",
       "        vertical-align: middle;\n",
       "    }\n",
       "\n",
       "    .dataframe tbody tr th {\n",
       "        vertical-align: top;\n",
       "    }\n",
       "\n",
       "    .dataframe thead th {\n",
       "        text-align: right;\n",
       "    }\n",
       "</style>\n",
       "<table border=\"1\" class=\"dataframe\">\n",
       "  <thead>\n",
       "    <tr style=\"text-align: right;\">\n",
       "      <th></th>\n",
       "      <th>Cloudiness</th>\n",
       "      <th>Humidity</th>\n",
       "      <th>Lat</th>\n",
       "      <th>Lng</th>\n",
       "      <th>Max Temp</th>\n",
       "      <th>Wind Speed</th>\n",
       "    </tr>\n",
       "  </thead>\n",
       "  <tbody>\n",
       "    <tr>\n",
       "      <th>count</th>\n",
       "      <td>586.000000</td>\n",
       "      <td>586.000000</td>\n",
       "      <td>586.000000</td>\n",
       "      <td>586.000000</td>\n",
       "      <td>586.000000</td>\n",
       "      <td>586.000000</td>\n",
       "    </tr>\n",
       "    <tr>\n",
       "      <th>mean</th>\n",
       "      <td>60.054608</td>\n",
       "      <td>70.839590</td>\n",
       "      <td>19.197671</td>\n",
       "      <td>27.930433</td>\n",
       "      <td>285.840700</td>\n",
       "      <td>3.803823</td>\n",
       "    </tr>\n",
       "    <tr>\n",
       "      <th>std</th>\n",
       "      <td>37.405156</td>\n",
       "      <td>21.094777</td>\n",
       "      <td>33.054368</td>\n",
       "      <td>90.220959</td>\n",
       "      <td>15.807927</td>\n",
       "      <td>2.765257</td>\n",
       "    </tr>\n",
       "    <tr>\n",
       "      <th>min</th>\n",
       "      <td>0.000000</td>\n",
       "      <td>8.000000</td>\n",
       "      <td>-54.800000</td>\n",
       "      <td>-179.166700</td>\n",
       "      <td>231.040000</td>\n",
       "      <td>0.000000</td>\n",
       "    </tr>\n",
       "    <tr>\n",
       "      <th>25%</th>\n",
       "      <td>20.000000</td>\n",
       "      <td>60.000000</td>\n",
       "      <td>-6.882475</td>\n",
       "      <td>-52.244125</td>\n",
       "      <td>275.830000</td>\n",
       "      <td>1.790000</td>\n",
       "    </tr>\n",
       "    <tr>\n",
       "      <th>50%</th>\n",
       "      <td>75.000000</td>\n",
       "      <td>76.000000</td>\n",
       "      <td>22.962050</td>\n",
       "      <td>37.059950</td>\n",
       "      <td>289.750000</td>\n",
       "      <td>3.115000</td>\n",
       "    </tr>\n",
       "    <tr>\n",
       "      <th>75%</th>\n",
       "      <td>95.000000</td>\n",
       "      <td>87.000000</td>\n",
       "      <td>45.881350</td>\n",
       "      <td>109.057125</td>\n",
       "      <td>298.957500</td>\n",
       "      <td>5.140000</td>\n",
       "    </tr>\n",
       "    <tr>\n",
       "      <th>max</th>\n",
       "      <td>100.000000</td>\n",
       "      <td>100.000000</td>\n",
       "      <td>78.218600</td>\n",
       "      <td>179.316700</td>\n",
       "      <td>309.130000</td>\n",
       "      <td>15.710000</td>\n",
       "    </tr>\n",
       "  </tbody>\n",
       "</table>\n",
       "</div>"
      ],
      "text/plain": [
       "       Cloudiness    Humidity         Lat         Lng    Max Temp  Wind Speed\n",
       "count  586.000000  586.000000  586.000000  586.000000  586.000000  586.000000\n",
       "mean    60.054608   70.839590   19.197671   27.930433  285.840700    3.803823\n",
       "std     37.405156   21.094777   33.054368   90.220959   15.807927    2.765257\n",
       "min      0.000000    8.000000  -54.800000 -179.166700  231.040000    0.000000\n",
       "25%     20.000000   60.000000   -6.882475  -52.244125  275.830000    1.790000\n",
       "50%     75.000000   76.000000   22.962050   37.059950  289.750000    3.115000\n",
       "75%     95.000000   87.000000   45.881350  109.057125  298.957500    5.140000\n",
       "max    100.000000  100.000000   78.218600  179.316700  309.130000   15.710000"
      ]
     },
     "execution_count": 33,
     "metadata": {},
     "output_type": "execute_result"
    }
   ],
   "source": [
    "city_temp_df.describe()"
   ]
  },
  {
   "cell_type": "markdown",
   "id": "8b557aa9-df80-4e59-b7b5-1d93b2c5bdc4",
   "metadata": {},
   "source": [
    "#  Inspect the data and remove the cities where the humidity > 100%."
   ]
  },
  {
   "cell_type": "code",
   "execution_count": 52,
   "id": "d8fb3c81-6273-4da7-b7e8-a3a3c5062726",
   "metadata": {},
   "outputs": [
    {
     "data": {
      "text/html": [
       "<div>\n",
       "<style scoped>\n",
       "    .dataframe tbody tr th:only-of-type {\n",
       "        vertical-align: middle;\n",
       "    }\n",
       "\n",
       "    .dataframe tbody tr th {\n",
       "        vertical-align: top;\n",
       "    }\n",
       "\n",
       "    .dataframe thead th {\n",
       "        text-align: right;\n",
       "    }\n",
       "</style>\n",
       "<table border=\"1\" class=\"dataframe\">\n",
       "  <thead>\n",
       "    <tr style=\"text-align: right;\">\n",
       "      <th></th>\n",
       "      <th>City</th>\n",
       "      <th>Cloudiness</th>\n",
       "      <th>Country</th>\n",
       "      <th>Date</th>\n",
       "      <th>Humidity</th>\n",
       "      <th>Lat</th>\n",
       "      <th>Lng</th>\n",
       "      <th>Max Temp</th>\n",
       "      <th>Wind Speed</th>\n",
       "    </tr>\n",
       "  </thead>\n",
       "  <tbody>\n",
       "  </tbody>\n",
       "</table>\n",
       "</div>"
      ],
      "text/plain": [
       "Empty DataFrame\n",
       "Columns: [City, Cloudiness, Country, Date, Humidity, Lat, Lng, Max Temp, Wind Speed]\n",
       "Index: []"
      ]
     },
     "execution_count": 52,
     "metadata": {},
     "output_type": "execute_result"
    }
   ],
   "source": [
    "city_temp_df.loc[city_temp_df['Humidity'] > 100]"
   ]
  },
  {
   "cell_type": "markdown",
   "id": "9000babc-63ab-4851-88ea-305feaa915b4",
   "metadata": {},
   "source": [
    "# Latitude vs. Temperature Plot"
   ]
  },
  {
   "cell_type": "code",
   "execution_count": 92,
   "id": "ba8a8715-3a0a-4ace-adb2-33e057623aee",
   "metadata": {},
   "outputs": [
    {
     "data": {
      "image/png": "[encoded data removed]",
      "text/plain": [
       "<Figure size 432x288 with 1 Axes>"
      ]
     },
     "metadata": {
      "needs_background": "light"
     },
     "output_type": "display_data"
    }
   ],
   "source": [
    "plt.scatter(city_temp_df[\"Lat\"], city_temp_df[\"Max Temp\"], edgecolors=\"black\")\n",
    "\n",
    "plt.title(\"City Latitude vs. Max Temperature (12/02/2021)\")\n",
    "plt.xlabel(\"Latitude\")\n",
    "plt.ylabel(\"Max Temperature (F)\")\n",
    "\n",
    "plt.savefig(\"output_data/LatVsMaxTemp.png\")\n",
    "\n",
    "plt.show()"
   ]
  },
  {
   "cell_type": "markdown",
   "id": "22729126-42e0-440e-9b7b-ecf8da9af4a7",
   "metadata": {},
   "source": [
    "# Latitude vs. Humidity Plot"
   ]
  },
  {
   "cell_type": "code",
   "execution_count": 91,
   "id": "06a38242-5c02-499f-8c4c-216d55281600",
   "metadata": {},
   "outputs": [
    {
     "data": {
      "image/png": "[encoded data removed]",
      "text/plain": [
       "<Figure size 432x288 with 1 Axes>"
      ]
     },
     "metadata": {
      "needs_background": "light"
     },
     "output_type": "display_data"
    }
   ],
   "source": [
    "plt.scatter(city_temp_df[\"Lat\"], city_temp_df[\"Humidity\"], edgecolors=\"black\")\n",
    "\n",
    "plt.title(\"City Latitude vs. Humidity (12/02/2021)\")\n",
    "plt.xlabel(\"Latitude\")\n",
    "plt.ylabel(\"Humidity (%)\")\n",
    "\n",
    "plt.savefig(output_data/)\n",
    "\n",
    "plt.show()"
   ]
  },
  {
   "cell_type": "code",
   "execution_count": null,
   "id": "65614508-7f58-42e2-9888-34c8cf4d573a",
   "metadata": {},
   "outputs": [],
   "source": []
  }
 ],
 "metadata": {
  "kernelspec": {
   "display_name": "Python 3",
   "language": "python",
   "name": "python3"
  },
  "language_info": {
   "codemirror_mode": {
    "name": "ipython",
    "version": 3
   },
   "file_extension": ".py",
   "mimetype": "text/x-python",
   "name": "python",
   "nbconvert_exporter": "python",
   "pygments_lexer": "ipython3",
   "version": "3.8.8"
  }
 },
 "nbformat": 4,
 "nbformat_minor": 5
}
